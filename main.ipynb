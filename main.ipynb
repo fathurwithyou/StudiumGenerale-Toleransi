{
 "cells": [
  {
   "cell_type": "code",
   "execution_count": 202,
   "metadata": {},
   "outputs": [],
   "source": [
    "# Author: Muhammad Fathur Rizky\n",
    "# Date: 2024-12-24\n",
    "# Email: rizkyfathur326@gmail.com"
   ]
  },
  {
   "cell_type": "markdown",
   "metadata": {},
   "source": [
    "# **Requirements**"
   ]
  },
  {
   "cell_type": "code",
   "execution_count": 203,
   "metadata": {},
   "outputs": [],
   "source": [
    "import pandas as pd\n",
    "import numpy as np\n",
    "import seaborn as sns\n",
    "import matplotlib.pyplot as plt\n",
    "import geopandas as gpd\n",
    "\n",
    "import warnings\n",
    "warnings.filterwarnings('ignore')"
   ]
  },
  {
   "cell_type": "markdown",
   "metadata": {},
   "source": [
    "# **Data Preparation**"
   ]
  },
  {
   "cell_type": "code",
   "execution_count": 204,
   "metadata": {},
   "outputs": [],
   "source": [
    "text = \"\"\"\n",
    "1 Singkawang 6,50 0,650 7,00 1,400 6,50 1,300 6,00 0,600 6,00 0,600 7,00 1,050 6,00 0,300 6,00 0,600 6,500\n",
    "2 Bekasi 6,00 0,600 6,55 1,310 7,00 1,400 6,00 0,600 6,00 0,600 7,00 1,050 6,00 0,300 6,00 0,600 6,460\n",
    "3 Salatiga 6,50 0,650 7,00 1,400 6,50 1,300 6,00 0,600 6,00 0,600 7,00 1,050 5,00 0,250 6,00 0,600 6,450\n",
    "4 Manado 6,00 0,600 7,00 1,400 7,00 1,400 6,00 0,600 6,00 0,600 6,00 0,900 6,00 0,300 6,00 0,600 6,400\n",
    "5 Semarang 6,00 0,600 6,90 1,380 6,50 1,300 6,00 0,600 6,00 0,600 6,00 0,900 5,00 0,250 6,00 0,600 6,230\n",
    "6 Magelang 6,00 0,600 6,85 1,370 7,00 1,400 5,00 0,500 6,00 0,600 6,00 0,900 5,00 0,250 6,00 0,600 6,220\n",
    "7 Kediri 5,83 0,583 6,70 1,340 7,00 1,400 5,00 0,500 6,00 0,600 6,00 0,900 5,00 0,250 5,00 0,500 6,073\n",
    "8 Sukabumi 5,17 0,517 6,65 1,330 6,50 1,300 5,00 0,500 6,00 0,600 6,00 0,900 5,00 0,250 6,00 0,600 5,997\n",
    "9 Kupang 5,33 0,533 6,85 1,370 7,00 1,400 6,00 0,600 5,00 0,500 5,00 0,750 6,00 0,300 5,00 0,500 5,953\n",
    "10 Surakarta 5,50 0,550 7,00 1,400 6,00 1,200 5,00 0,500 5,00 0,500 5,00 0,750 6,00 0,300 6,00 0,600 5,800\n",
    "11 Pematang Siantar 4,50 0,450 7,00 1,400 6,50 1,300 4,00 0,400 5,00 0,500 6,00 0,900 6,00 0,300 5,00 0,500 5,750\n",
    "12 Bogor 4,50 0,450 5,40 1,080 6,50 1,300 6,00 0,600 6,00 0,600 7,00 1,050 5,00 0,250 4,00 0,400 5,730\n",
    "13 Banjarmasin 4,83 0,483 5,65 1,130 6,50 1,300 6,00 0,600 6,00 0,600 6,00 0,900 4,00 0,200 4,00 0,400 5,613\n",
    "14 Ambon 4,50 0,450 7,00 1,400 7,00 1,400 5,00 0,500 5,00 0,500 4,00 0,600 5,00 0,250 5,00 0,500 5,600\n",
    "15 Bandung 5,17 0,517 6,65 1,330 6,00 1,200 5,00 0,500 5,00 0,500 5,00 0,750 5,00 0,250 5,00 0,500 5,547\n",
    "16 Surabaya 4,83 0,483 5,55 1,110 5,50 1,100 6,00 0,600 5,00 0,500 6,00 0,900 5,00 0,250 6,00 0,600 5,543\n",
    "17 Tomohon 5,00 0,500 7,00 1,400 7,00 1,400 3,00 0,300 4,00 0,400 5,00 0,750 4,00 0,200 5,00 0,500 5,450\n",
    "18 Pontianak 4,00 0,400 7,00 1,400 7,00 1,400 5,00 0,500 5,00 0,500 4,00 0,600 5,00 0,250 4,00 0,400 5,450\n",
    "19 Yogyakarta 3,83 0,383 7,00 1,400 7,00 1,400 4,00 0,400 4,00 0,400 6,00 0,900 3,00 0,150 4,00 0,400 5,433\n",
    "20 Malang 4,50 0,450 5,60 1,120 6,00 1,200 5,00 0,500 6,00 0,600 5,00 0,750 5,00 0,250 5,00 0,500 5,370\n",
    "21 Madiun 3,83 0,383 6,85 1,370 7,00 1,400 4,00 0,400 5,00 0,500 4,00 0,600 4,00 0,200 5,00 0,500 5,353\n",
    "22 Batu 5,00 0,500 7,00 1,400 7,00 1,400 3,00 0,300 4,00 0,400 4,00 0,600 4,00 0,200 5,00 0,500 5,300\n",
    "23 Jayapura 4,83 0,483 7,00 1,400 7,00 1,400 4,00 0,400 4,00 0,400 4,00 0,600 4,00 0,200 4,00 0,400 5,283\n",
    "24 Probolinggo 4,67 0,467 7,00 1,400 7,00 1,400 4,00 0,400 5,00 0,500 4,00 0,600 2,00 0,100 4,00 0,400 5,267\n",
    "25 Cimahi 4,67 0,467 6,70 1,340 7,00 1,400 3,00 0,300 4,00 0,400 5,00 0,750 4,00 0,200 4,00 0,400 5,257\n",
    "26 Denpasar 4,33 0,433 7,00 1,400 6,00 1,200 3,00 0,300 4,00 0,400 5,00 0,750 5,00 0,250 5,00 0,500 5,233\n",
    "27 Palu 4,17 0,417 7,00 1,400 7,00 1,400 3,00 0,300 4,00 0,400 5,00 0,750 3,00 0,150 4,00 0,400 5,217\n",
    "28 Batam 4,00 0,400 6,70 1,340 7,00 1,400 3,00 0,300 4,00 0,400 4,00 0,600 5,00 0,250 5,00 0,500 5,190\n",
    "29 Tegal 5,17 0,517 6,85 1,370 6,50 1,300 4,00 0,400 5,00 0,500 4,00 0,600 2,00 0,100 4,00 0,400 5,187\n",
    "30 Sorong 4,33 0,433 7,00 1,400 7,00 1,400 4,00 0,400 4,00 0,400 3,00 0,450 4,00 0,200 5,00 0,500 5,183\n",
    "31 Sibolga 4,33 0,433 7,00 1,400 7,00 1,400 3,00 0,300 4,00 0,400 5,00 0,750 4,00 0,200 3,00 0,300 5,183\n",
    "32 Tanjung Pinang 5,83 0,583 6,50 1,300 7,00 1,400 4,00 0,400 4,00 0,400 4,00 0,600 4,00 0,200 3,00 0,300 5,183\n",
    "33 Palangkaraya 4,50 0,450 6,85 1,370 6,50 1,300 4,00 0,400 4,00 0,400 4,00 0,600 5,00 0,250 4,00 0,400 5,170\n",
    "34 Samarinda 3,50 0,350 6,35 1,270 6,50 1,300 4,00 0,400 5,00 0,500 5,00 0,750 4,00 0,200 4,00 0,400 5,170\n",
    "35 Kendari 2,67 0,267 7,00 1,400 7,00 1,400 4,00 0,400 4,00 0,400 4,00 0,600 4,00 0,200 5,00 0,500 5,167\n",
    "36 Bitung 4,50 0,450 7,00 1,400 7,00 1,400 4,00 0,400 4,00 0,400 3,00 0,450 5,00 0,250 4,00 0,400 5,150\n",
    "37 Tangerang 3,50 0,350 6,45 1,290 6,50 1,300 4,00 0,400 5,00 0,500 5,00 0,750 3,00 0,150 4,00 0,400 5,140\n",
    "38 Pangkal Pinang 4,33 0,433 7,00 1,400 7,00 1,400 3,00 0,300 4,00 0,400 4,00 0,600 4,00 0,200 4,00 0,400 5,133\n",
    "39 Mojokerto 4,33 0,433 7,00 1,400 7,00 1,400 3,00 0,300 3,00 0,300 5,00 0,750 3,00 0,150 4,00 0,400 5,133\n",
    "40 Tarakan 4,17 0,417 6,20 1,240 6,50 1,300 5,00 0,500 5,00 0,500 5,00 0,750 4,00 0,200 2,00 0,200 5,107\n",
    "41 Tual 4,00 0,400 7,00 1,400 7,00 1,400 3,00 0,300 4,00 0,400 4,00 0,600 4,00 0,200 4,00 0,400 5,100\n",
    "42 Pare Pare 4,00 0,400 7,00 1,400 6,50 1,300 4,00 0,400 4,00 0,400 5,00 0,750 3,00 0,150 3,00 0,300 5,100\n",
    "43 Binjai 3,83 0,383 7,00 1,400 6,50 1,300 4,00 0,400 3,00 0,300 5,00 0,750 3,00 0,150 4,00 0,400 5,083\n",
    "44 Kotamobagu 4,00 0,400 7,00 1,400 7,00 1,400 3,00 0,300 4,00 0,400 4,00 0,600 3,00 0,150 4,00 0,400 5,050\n",
    "45 Gunung sitoli 3,83 0,383 6,50 1,300 6,50 1,300 4,00 0,400 5,00 0,500 5,00 0,750 4,00 0,200 2,00 0,200 5,033\n",
    "46 Cirebon 5,33 0,533 6,70 1,340 6,00 1,200 4,00 0,400 3,00 0,300 3,00 0,450 4,00 0,200 6,00 0,600 5,023\n",
    "47 Tangerang Selatan 4,00 0,400 6,60 1,320 6,50 1,300 4,00 0,400 4,00 0,400 5,00 0,750 3,00 0,150 3,00 0,300 5,020\n",
    "48 Solok 4,50 0,450 6,55 1,310 7,00 1,400 4,00 0,400 4,00 0,400 4,00 0,600 3,00 0,150 3,00 0,300 5,010\n",
    "49 Bengkulu 4,33 0,433 6,85 1,370 7,00 1,400 3,00 0,300 3,00 0,300 5,00 0,750 3,00 0,150 3,00 0,300 5,003\n",
    "50 Sawahlunto 3,50 0,350 6,40 1,280 7,00 1,400 4,00 0,400 5,00 0,500 4,00 0,600 3,00 0,150 3,00 0,300 4,980\n",
    "51 Langsa 2,83 0,283 6,40 1,280 7,00 1,400 4,00 0,400 4,00 0,400 4,00 0,600 4,00 0,200 4,00 0,400 4,963\n",
    "52 Bukittinggi 4,00 0,400 5,95 1,190 7,00 1,400 5,00 0,500 4,00 0,400 4,00 0,600 3,00 0,150 3,00 0,300 4,940\n",
    "53 Bontang 4,33 0,433 7,00 1,400 6,50 1,300 3,00 0,300 3,00 0,300 4,00 0,600 4,00 0,200 4,00 0,400 4,933\n",
    "54 Gorontalo 4,00 0,400 6,90 1,380 6,50 1,300 2,00 0,200 3,00 0,300 5,00 0,750 4,00 0,200 4,00 0,400 4,930\n",
    "55 Serang 4,00 0,400 6,15 1,230 7,00 1,400 4,00 0,400 4,00 0,400 4,00 0,600 2,00 0,100 4,00 0,400 4,930\n",
    "56 Tanjung Balai 3,83 0,383 6,85 1,370 7,00 1,400 4,00 0,400 4,00 0,400 4,00 0,600 3,00 0,150 2,00 0,200 4,903\n",
    "57 Banjar 3,83 0,383 6,80 1,360 7,00 1,400 4,00 0,400 5,00 0,500 2,00 0,300 3,00 0,150 4,00 0,400 4,893\n",
    "58 Ternate 5,17 0,517 6,35 1,270 6,50 1,300 3,00 0,300 5,00 0,500 4,00 0,600 2,00 0,100 3,00 0,300 4,887\n",
    "59 Tebing Tinggi 5,00 0,500 7,00 1,400 7,00 1,400 3,00 0,300 3,00 0,300 4,00 0,600 3,00 0,150 2,00 0,200 4,850\n",
    "60 Jambi 4,50 0,450 6,90 1,380 6,00 1,200 4,00 0,400 4,00 0,400 4,00 0,600 4,00 0,200 2,00 0,200 4,830\n",
    "61 Tasikmalaya 5,00 0,500 6,60 1,320 6,50 1,300 3,00 0,300 4,00 0,400 4,00 0,600 2,00 0,100 3,00 0,300 4,820\n",
    "62 Makassar 5,17 0,517 4,60 0,920 4,50 0,900 5,00 0,500 5,00 0,500 5,00 0,750 4,00 0,200 5,00 0,500 4,787\n",
    "63 Pasuruan 3,33 0,333 6,70 1,340 7,00 1,400 3,00 0,300 4,00 0,400 4,00 0,600 2,00 0,100 3,00 0,300 4,773\n",
    "64 Palopo 3,33 0,333 7,00 1,400 6,50 1,300 3,00 0,300 3,00 0,300 3,00 0,450 3,00 0,150 5,00 0,500 4,733\n",
    "65 Metro 3,00 0,300 7,00 1,400 7,00 1,400 3,00 0,300 3,00 0,300 3,00 0,450 3,00 0,150 4,00 0,400 4,700\n",
    "66 Blitar 4,17 0,417 6,90 1,380 6,00 1,200 2,00 0,200 3,00 0,300 4,00 0,600 4,00 0,200 4,00 0,400 4,697\n",
    "67 Lubuk Linggau 4,17 0,417 6,60 1,320 7,00 1,400 2,00 0,200 3,00 0,300 3,00 0,450 2,00 0,100 5,00 0,500 4,687\n",
    "68 DKI Jakarta 5,50 0,550 6,40 1,280 3,50 0,700 4,00 0,400 4,00 0,400 4,00 0,600 5,00 0,250 5,00 0,500 4,680\n",
    "69 Padang Panjang 3,17 0,317 6,70 1,340 7,00 1,400 3,00 0,300 4,00 0,400 3,00 0,450 3,00 0,150 3,00 0,300 4,657\n",
    "70 Dumai 4,00 0,400 7,00 1,400 6,50 1,300 3,00 0,300 2,00 0,200 3,00 0,450 4,00 0,200 4,00 0,400 4,650\n",
    "71 Prabumuli 2,00 0,200 6,55 1,310 7,00 1,400 3,00 0,300 5,00 0,500 3,00 0,450 3,00 0,150 3,00 0,300 4,610\n",
    "72 Payakumbuh 3,67 0,367 6,45 1,290 6,00 1,200 3,00 0,300 4,00 0,400 4,00 0,600 3,00 0,150 3,00 0,300 4,607\n",
    "73 Medan 4,17 0,417 6,10 1,220 3,50 0,700 5,00 0,500 4,00 0,400 5,00 0,750 4,00 0,200 4,00 0,400 4,587\n",
    "74 Bima 3,83 0,383 7,00 1,400 7,00 1,400 2,00 0,200 2,00 0,200 3,00 0,450 3,00 0,150 4,00 0,400 4,583\n",
    "75 Bau Bau 3,00 0,300 6,90 1,380 7,00 1,400 1,00 0,100 3,00 0,300 4,00 0,600 4,00 0,200 3,00 0,300 4,580\n",
    "76 Banjarbaru 4,33 0,433 6,45 1,290 6,50 1,300 3,00 0,300 5,00 0,500 2,00 0,300 3,00 0,150 3,00 0,300 4,573\n",
    "77 Tidore Kepulauan 4,00 0,400 6,85 1,370 6,50 1,300 3,00 0,300 3,00 0,300 3,00 0,450 3,00 0,150 3,00 0,300 4,570\n",
    "78 Sungai Penuh 4,00 0,400 6,75 1,350 7,00 1,400 3,00 0,300 3,00 0,300 3,00 0,450 3,00 0,150 2,00 0,200 4,550\n",
    "79 Pariaman 2,00 0,200 7,00 1,400 7,00 1,400 3,00 0,300 4,00 0,400 3,00 0,450 2,00 0,100 3,00 0,300 4,550\n",
    "80 Balikpapan 3,67 0,367 6,60 1,320 7,00 1,400 4,00 0,400 4,00 0,400 2,00 0,300 3,00 0,150 2,00 0,200 4,537\n",
    "81 Pagar Alam 3,33 0,333 7,00 1,400 7,00 1,400 3,00 0,300 2,00 0,200 3,00 0,450 3,00 0,150 3,00 0,300 4,533\n",
    "82 Padangsidimpuan 3,00 0,300 7,00 1,400 7,00 1,400 2,00 0,200 3,00 0,300 3,00 0,450 3,00 0,150 3,00 0,300 4,500\n",
    "83 Subulussalam 3,00 0,300 6,70 1,340 7,00 1,400 3,00 0,300 4,00 0,400 3,00 0,450 2,00 0,100 2,00 0,200 4,490\n",
    "84 Pekalongan 3,17 0,317 7,00 1,400 4,00 0,800 3,00 0,300 5,00 0,500 4,00 0,600 3,00 0,150 4,00 0,400 4,467\n",
    "85 Sabang 3,67 0,367 6,70 1,340 7,00 1,400 2,00 0,200 3,00 0,300 3,00 0,450 2,00 0,100 3,00 0,300 4,457\n",
    "86 Bandar Lampung 3,00 0,300 6,25 1,250 5,00 1,000 3,00 0,300 4,00 0,400 4,00 0,600 4,00 0,200 4,00 0,400 4,450\n",
    "87 Palembang 3,33 0,333 6,75 1,350 5,50 1,100 3,00 0,300 3,00 0,300 3,00 0,450 4,00 0,200 4,00 0,400 4,433\n",
    "88 Pekanbaru 3,50 0,350 6,35 1,270 5,00 1,000 3,00 0,300 4,00 0,400 4,00 0,600 4,00 0,200 3,00 0,300 4,420\n",
    "89 Mataram 3,67 0,367 5,85 1,170 5,50 1,100 3,00 0,300 4,00 0,400 4,00 0,600 3,00 0,150 3,00 0,300 4,387\n",
    "90 Lhokseumawe 3,67 0,367 5,55 1,110 7,00 1,400 3,00 0,300 3,00 0,300 3,00 0,450 3,00 0,150 3,00 0,300 4,377\n",
    "91 Padang 3,67 0,367 4,90 0,980 5,00 1,000 5,00 0,500 4,00 0,400 3,00 0,450 4,00 0,200 4,00 0,400 4,297\n",
    "92 Banda Aceh 3,50 0,350 5,80 1,160 7,00 1,400 3,00 0,300 2,00 0,200 3,00 0,450 2,00 0,100 3,00 0,300 4,260\n",
    "93 Cilegon 3,33 0,333 5,30 1,060 4,00 0,800 4,00 0,400 4,00 0,400 4,00 0,600 4,00 0,200 4,00 0,400 4,193\n",
    "94 Depok 4,00 0,400 4,55 0,910 3,50 0,700 4,00 0,400 4,00 0,400 4,00 0,600 4,00 0,200 4,00 0,400 4,010\n",
    "\"\"\"\n",
    "\n",
    "cleaned_text = \"\""
   ]
  },
  {
   "cell_type": "code",
   "execution_count": 205,
   "metadata": {},
   "outputs": [],
   "source": [
    "for t in text.strip().split(\"\\n\"):\n",
    "    txt = t\n",
    "    txt = txt.strip().split()\n",
    "\n",
    "    # merge the city name\n",
    "    if txt[2].isalpha(): \n",
    "        txt[1] = txt[1] + \" \" + txt[2]\n",
    "        txt.pop(2)\n",
    "    # remove the comma\n",
    "    txt = [i.replace(\",\", \".\") for i in txt]\n",
    "    # print(txt)\n",
    "    # remove the last element\n",
    "\n",
    "    cleaned_text += \";\".join(txt) + \"\\n\""
   ]
  },
  {
   "cell_type": "code",
   "execution_count": 206,
   "metadata": {},
   "outputs": [
    {
     "name": "stdout",
     "output_type": "stream",
     "text": [
      "<class 'pandas.core.frame.DataFrame'>\n",
      "Index: 94 entries, 1 to 94\n",
      "Data columns (total 18 columns):\n",
      " #   Column      Non-Null Count  Dtype  \n",
      "---  ------      --------------  -----  \n",
      " 0   Kota        94 non-null     object \n",
      " 1   IND1        94 non-null     float64\n",
      " 2   Weight1     94 non-null     float64\n",
      " 3   IND2        94 non-null     float64\n",
      " 4   Weight2     94 non-null     float64\n",
      " 5   IND3        94 non-null     float64\n",
      " 6   Weight3     94 non-null     float64\n",
      " 7   IND4        94 non-null     float64\n",
      " 8   Weight4     94 non-null     float64\n",
      " 9   IND5        94 non-null     float64\n",
      " 10  Weight5     94 non-null     float64\n",
      " 11  IND6        94 non-null     float64\n",
      " 12  Weight6     94 non-null     float64\n",
      " 13  IND7        94 non-null     float64\n",
      " 14  Weight7     94 non-null     float64\n",
      " 15  IND8        94 non-null     float64\n",
      " 16  Weight8     94 non-null     float64\n",
      " 17  Skor Akhir  94 non-null     float64\n",
      "dtypes: float64(17), object(1)\n",
      "memory usage: 14.0+ KB\n"
     ]
    }
   ],
   "source": [
    "# to dataframe\n",
    "data = pd.DataFrame([i.split(\";\") for i in cleaned_text.strip().split(\"\\n\")])\n",
    "col = ['No', 'Kota', 'IND1', 'Weight1', 'IND2', 'Weight2', 'IND3', 'Weight3', 'IND4', 'Weight4', 'IND5', 'Weight5', 'IND6', 'Weight6', 'IND7', 'Weight7', 'IND8', 'Weight8', 'Skor Akhir']\n",
    "data.columns = col\n",
    "data = data.set_index('No')\n",
    "for i in data.columns:\n",
    "    if i != 'Kota':\n",
    "        data[i] = data[i].astype(float)\n",
    "data.info()"
   ]
  },
  {
   "cell_type": "code",
   "execution_count": 207,
   "metadata": {},
   "outputs": [],
   "source": [
    "data.to_csv('Indeks Tolerasi Kota.csv', index=False)"
   ]
  },
  {
   "cell_type": "code",
   "execution_count": 208,
   "metadata": {},
   "outputs": [
    {
     "name": "stdout",
     "output_type": "stream",
     "text": [
      "<class 'geopandas.geodataframe.GeoDataFrame'>\n",
      "Index: 32 entries, 1 to 32\n",
      "Data columns (total 5 columns):\n",
      " #   Column           Non-Null Count  Dtype   \n",
      "---  ------           --------------  -----   \n",
      " 0   kode             32 non-null     int32   \n",
      " 1   Propinsi         32 non-null     object  \n",
      " 2   SUMBER           32 non-null     object  \n",
      " 3   Jumlah Penduduk  32 non-null     int32   \n",
      " 4   geometry         32 non-null     geometry\n",
      "dtypes: geometry(1), int32(2), object(2)\n",
      "memory usage: 1.1+ KB\n"
     ]
    }
   ],
   "source": [
    "gpd_data = gpd.read_file(\"indonesia-geo.json\", index_col='ID')\n",
    "gpd_data.set_index('ID', inplace=True)\n",
    "gpd_data.info()"
   ]
  },
  {
   "cell_type": "code",
   "execution_count": 209,
   "metadata": {},
   "outputs": [
    {
     "data": {
      "text/html": [
       "<div>\n",
       "<style scoped>\n",
       "    .dataframe tbody tr th:only-of-type {\n",
       "        vertical-align: middle;\n",
       "    }\n",
       "\n",
       "    .dataframe tbody tr th {\n",
       "        vertical-align: top;\n",
       "    }\n",
       "\n",
       "    .dataframe thead th {\n",
       "        text-align: right;\n",
       "    }\n",
       "</style>\n",
       "<table border=\"1\" class=\"dataframe\">\n",
       "  <thead>\n",
       "    <tr style=\"text-align: right;\">\n",
       "      <th></th>\n",
       "      <th>City</th>\n",
       "      <th>Province</th>\n",
       "    </tr>\n",
       "  </thead>\n",
       "  <tbody>\n",
       "    <tr>\n",
       "      <th>0</th>\n",
       "      <td>Singkawang</td>\n",
       "      <td>KALIMANTAN BARAT</td>\n",
       "    </tr>\n",
       "    <tr>\n",
       "      <th>1</th>\n",
       "      <td>Bekasi</td>\n",
       "      <td>JAWA BARAT</td>\n",
       "    </tr>\n",
       "    <tr>\n",
       "      <th>2</th>\n",
       "      <td>Salatiga</td>\n",
       "      <td>JAWA TENGAH</td>\n",
       "    </tr>\n",
       "    <tr>\n",
       "      <th>3</th>\n",
       "      <td>Manado</td>\n",
       "      <td>SULAWESI UTARA</td>\n",
       "    </tr>\n",
       "    <tr>\n",
       "      <th>4</th>\n",
       "      <td>Semarang</td>\n",
       "      <td>JAWA TENGAH</td>\n",
       "    </tr>\n",
       "  </tbody>\n",
       "</table>\n",
       "</div>"
      ],
      "text/plain": [
       "         City          Province\n",
       "0  Singkawang  KALIMANTAN BARAT\n",
       "1      Bekasi        JAWA BARAT\n",
       "2    Salatiga       JAWA TENGAH\n",
       "3      Manado    SULAWESI UTARA\n",
       "4    Semarang       JAWA TENGAH"
      ]
     },
     "execution_count": 209,
     "metadata": {},
     "output_type": "execute_result"
    }
   ],
   "source": [
    "city_province = pd.read_csv(\"city_province.csv\")\n",
    "city_province.head()"
   ]
  },
  {
   "cell_type": "code",
   "execution_count": 210,
   "metadata": {},
   "outputs": [
    {
     "name": "stdout",
     "output_type": "stream",
     "text": [
      "<class 'pandas.core.frame.DataFrame'>\n",
      "RangeIndex: 94 entries, 0 to 93\n",
      "Data columns (total 20 columns):\n",
      " #   Column      Non-Null Count  Dtype   \n",
      "---  ------      --------------  -----   \n",
      " 0   Kota        94 non-null     object  \n",
      " 1   IND1        94 non-null     float64 \n",
      " 2   Weight1     94 non-null     float64 \n",
      " 3   IND2        94 non-null     float64 \n",
      " 4   Weight2     94 non-null     float64 \n",
      " 5   IND3        94 non-null     float64 \n",
      " 6   Weight3     94 non-null     float64 \n",
      " 7   IND4        94 non-null     float64 \n",
      " 8   Weight4     94 non-null     float64 \n",
      " 9   IND5        94 non-null     float64 \n",
      " 10  Weight5     94 non-null     float64 \n",
      " 11  IND6        94 non-null     float64 \n",
      " 12  Weight6     94 non-null     float64 \n",
      " 13  IND7        94 non-null     float64 \n",
      " 14  Weight7     94 non-null     float64 \n",
      " 15  IND8        94 non-null     float64 \n",
      " 16  Weight8     94 non-null     float64 \n",
      " 17  Skor Akhir  94 non-null     float64 \n",
      " 18  Provinsi    94 non-null     object  \n",
      " 19  geometry    94 non-null     geometry\n",
      "dtypes: float64(17), geometry(1), object(2)\n",
      "memory usage: 14.8+ KB\n"
     ]
    }
   ],
   "source": [
    "# left join from data and gpd_data\n",
    "\n",
    "data = data.merge(city_province, left_on='Kota', right_on='City', how='left')\n",
    "data.drop(columns=['City'], inplace=True)\n",
    "data = data.merge(gpd_data, left_on='Province', right_on='Propinsi', how='left')\n",
    "data.drop(columns=['Propinsi', 'kode', 'SUMBER', 'Jumlah Penduduk'], inplace=True)\n",
    "data.rename(columns={'Province': 'Provinsi'}, inplace=True)\n",
    "data.info()"
   ]
  },
  {
   "cell_type": "markdown",
   "metadata": {},
   "source": [
    "# **Exploratory Data Analysis**"
   ]
  },
  {
   "cell_type": "code",
   "execution_count": 211,
   "metadata": {},
   "outputs": [],
   "source": []
  }
 ],
 "metadata": {
  "kernelspec": {
   "display_name": "base",
   "language": "python",
   "name": "python3"
  },
  "language_info": {
   "codemirror_mode": {
    "name": "ipython",
    "version": 3
   },
   "file_extension": ".py",
   "mimetype": "text/x-python",
   "name": "python",
   "nbconvert_exporter": "python",
   "pygments_lexer": "ipython3",
   "version": "3.11.11"
  }
 },
 "nbformat": 4,
 "nbformat_minor": 2
}
